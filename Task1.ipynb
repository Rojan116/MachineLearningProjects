{
  "nbformat": 4,
  "nbformat_minor": 0,
  "metadata": {
    "colab": {
      "name": "Task1.ipynb",
      "provenance": [],
      "collapsed_sections": [],
      "authorship_tag": "ABX9TyOUasrPC8WR/Vw1/oNbfC+N",
      "include_colab_link": true
    },
    "kernelspec": {
      "name": "python3",
      "display_name": "Python 3"
    },
    "accelerator": "GPU"
  },
  "cells": [
    {
      "cell_type": "markdown",
      "metadata": {
        "id": "view-in-github",
        "colab_type": "text"
      },
      "source": [
        "<a href=\"https://colab.research.google.com/github/Rojan116/MachineLearningProjects/blob/master/Task1.ipynb\" target=\"_parent\"><img src=\"https://colab.research.google.com/assets/colab-badge.svg\" alt=\"Open In Colab\"/></a>"
      ]
    },
    {
      "cell_type": "code",
      "metadata": {
        "id": "Go9qxsL65Hvi",
        "colab_type": "code",
        "colab": {}
      },
      "source": [
        "import numpy as np\n",
        "import pandas as pd\n",
        "import matplotlib.pyplot as plt\n",
        "from sklearn.model_selection import train_test_split"
      ],
      "execution_count": 0,
      "outputs": []
    },
    {
      "cell_type": "code",
      "metadata": {
        "id": "DGaNDkiU5kCW",
        "colab_type": "code",
        "colab": {}
      },
      "source": [
        "train_df = pd.read_csv('data/train_set.csv',encoding='ISO-8859-1')\n",
        "train_df = train_df[pd.notnull(train_df['label'])]  #not null label value\n",
        "test_df = pd.read_csv('data/test_set.csv')\n",
        "test_pred = test_df.text"
      ],
      "execution_count": 0,
      "outputs": []
    },
    {
      "cell_type": "code",
      "metadata": {
        "id": "OUUS3WAs6utJ",
        "colab_type": "code",
        "outputId": "f68b07b2-e53c-437c-da00-afac8c1f0611",
        "colab": {
          "base_uri": "https://localhost:8080/",
          "height": 180
        }
      },
      "source": [
        "print(\"test df head \\n\\n {}\".format(test_df.head()))"
      ],
      "execution_count": 299,
      "outputs": [
        {
          "output_type": "stream",
          "text": [
            "test df head \n",
            "\n",
            "                                                 text\n",
            "0  lv tmd pd trip unit for nh parts of circuit br...\n",
            "1  module tm analog outputs analog output expansi...\n",
            "2   command group t iii mechanismt p parts forcir...\n",
            "3    parts of relayelectrical contact  issu e f xxup\n",
            "4  parts for programmable logic controllers  dm  ...\n"
          ],
          "name": "stdout"
        }
      ]
    },
    {
      "cell_type": "code",
      "metadata": {
        "id": "eajYfS9x8ilB",
        "colab_type": "code",
        "outputId": "a0707e53-8b82-4dc4-fa98-2ba9aabdd80e",
        "colab": {
          "base_uri": "https://localhost:8080/",
          "height": 180
        }
      },
      "source": [
        "print(\"train df tail \\n\\n {}\".format(train_df.tail()))"
      ],
      "execution_count": 300,
      "outputs": [
        {
          "output_type": "stream",
          "text": [
            "train df tail \n",
            "\n",
            "           label                                               text\n",
            "23610  84713010  veav hp ids dsc gb iu for ddr  g base nb pchp ...\n",
            "23611  84713010   pgv inspiron  portable computernotebook assyb...\n",
            "23612  84713010  xfuc acj eguuqnfinnnnnues india rmn hstnnic  n...\n",
            "23613  84713010   nwg latitude  portable computernotebook assyb...\n",
            "23614  84713010   rpp inspiron  portable computernotebook assyb...\n"
          ],
          "name": "stdout"
        }
      ]
    },
    {
      "cell_type": "code",
      "metadata": {
        "id": "WORV_Qcr8_th",
        "colab_type": "code",
        "outputId": "add8bb83-1f68-4d6e-d67e-f0003186fff9",
        "colab": {
          "base_uri": "https://localhost:8080/",
          "height": 180
        }
      },
      "source": [
        "print(\"Test df tail \\n\\n {}\".format(test_df.tail()))"
      ],
      "execution_count": 301,
      "outputs": [
        {
          "output_type": "stream",
          "text": [
            "Test df tail \n",
            "\n",
            "                                                    text\n",
            "5889   gdf latitude  portable computernotebookassyba...\n",
            "5890   cfjx precision  portable computernotebook ass...\n",
            "5891  eguujnnincnnnuas xuup acj note book computer l...\n",
            "5892  egubjnninnnnums wwup note book computer laptop...\n",
            "5893  lqav hp ids uma iu  g bnbpchp laptophstnnicbis...\n"
          ],
          "name": "stdout"
        }
      ]
    },
    {
      "cell_type": "code",
      "metadata": {
        "id": "Cb-kA7Tu9E58",
        "colab_type": "code",
        "colab": {}
      },
      "source": [
        "classes = []\n",
        "for x in train_df['label']:\n",
        "  if x not in classes:\n",
        "    classes.append(x)\n",
        "    "
      ],
      "execution_count": 0,
      "outputs": []
    },
    {
      "cell_type": "code",
      "metadata": {
        "id": "RY2p9_d899wo",
        "colab_type": "code",
        "outputId": "0101409c-6e40-458c-e001-1b6b80339176",
        "colab": {
          "base_uri": "https://localhost:8080/",
          "height": 73
        }
      },
      "source": [
        "print(\"classes => {}\".format(classes))"
      ],
      "execution_count": 303,
      "outputs": [
        {
          "output_type": "stream",
          "text": [
            "classes => [85389000, 85177090, 85369090, 39269099, 73181500, 85366990, 85364900, 85238090, 87089900, 33041000, 87082900, 84713010]\n"
          ],
          "name": "stdout"
        }
      ]
    },
    {
      "cell_type": "code",
      "metadata": {
        "id": "plul9rkJ-94l",
        "colab_type": "code",
        "outputId": "a0c4fed6-2ebf-4ffd-cffe-90da22e6c6d6",
        "colab": {
          "base_uri": "https://localhost:8080/",
          "height": 425
        }
      },
      "source": [
        "train_df"
      ],
      "execution_count": 304,
      "outputs": [
        {
          "output_type": "execute_result",
          "data": {
            "text/html": [
              "<div>\n",
              "<style scoped>\n",
              "    .dataframe tbody tr th:only-of-type {\n",
              "        vertical-align: middle;\n",
              "    }\n",
              "\n",
              "    .dataframe tbody tr th {\n",
              "        vertical-align: top;\n",
              "    }\n",
              "\n",
              "    .dataframe thead th {\n",
              "        text-align: right;\n",
              "    }\n",
              "</style>\n",
              "<table border=\"1\" class=\"dataframe\">\n",
              "  <thead>\n",
              "    <tr style=\"text-align: right;\">\n",
              "      <th></th>\n",
              "      <th>label</th>\n",
              "      <th>text</th>\n",
              "    </tr>\n",
              "  </thead>\n",
              "  <tbody>\n",
              "    <tr>\n",
              "      <th>0</th>\n",
              "      <td>85389000</td>\n",
              "      <td>pdscpm gb part of panel of chiller</td>\n",
              "    </tr>\n",
              "    <tr>\n",
              "      <th>1</th>\n",
              "      <td>85389000</td>\n",
              "      <td>nm  p economical extended rot hand parts for c...</td>\n",
              "    </tr>\n",
              "    <tr>\n",
              "      <th>2</th>\n",
              "      <td>85389000</td>\n",
              "      <td>lv ma pd trip unit for cvs parts of circuit br...</td>\n",
              "    </tr>\n",
              "    <tr>\n",
              "      <th>3</th>\n",
              "      <td>85389000</td>\n",
              "      <td>lv na p trip unit for cvs switch parts of circ...</td>\n",
              "    </tr>\n",
              "    <tr>\n",
              "      <th>4</th>\n",
              "      <td>85389000</td>\n",
              "      <td>lv tmd pd trip unit for cvs parts of circuitbr...</td>\n",
              "    </tr>\n",
              "    <tr>\n",
              "      <th>...</th>\n",
              "      <td>...</td>\n",
              "      <td>...</td>\n",
              "    </tr>\n",
              "    <tr>\n",
              "      <th>23610</th>\n",
              "      <td>84713010</td>\n",
              "      <td>veav hp ids dsc gb iu for ddr  g base nb pchp ...</td>\n",
              "    </tr>\n",
              "    <tr>\n",
              "      <th>23611</th>\n",
              "      <td>84713010</td>\n",
              "      <td>pgv inspiron  portable computernotebook assyb...</td>\n",
              "    </tr>\n",
              "    <tr>\n",
              "      <th>23612</th>\n",
              "      <td>84713010</td>\n",
              "      <td>xfuc acj eguuqnfinnnnnues india rmn hstnnic  n...</td>\n",
              "    </tr>\n",
              "    <tr>\n",
              "      <th>23613</th>\n",
              "      <td>84713010</td>\n",
              "      <td>nwg latitude  portable computernotebook assyb...</td>\n",
              "    </tr>\n",
              "    <tr>\n",
              "      <th>23614</th>\n",
              "      <td>84713010</td>\n",
              "      <td>rpp inspiron  portable computernotebook assyb...</td>\n",
              "    </tr>\n",
              "  </tbody>\n",
              "</table>\n",
              "<p>23615 rows × 2 columns</p>\n",
              "</div>"
            ],
            "text/plain": [
              "          label                                               text\n",
              "0      85389000                 pdscpm gb part of panel of chiller\n",
              "1      85389000  nm  p economical extended rot hand parts for c...\n",
              "2      85389000  lv ma pd trip unit for cvs parts of circuit br...\n",
              "3      85389000  lv na p trip unit for cvs switch parts of circ...\n",
              "4      85389000  lv tmd pd trip unit for cvs parts of circuitbr...\n",
              "...         ...                                                ...\n",
              "23610  84713010  veav hp ids dsc gb iu for ddr  g base nb pchp ...\n",
              "23611  84713010   pgv inspiron  portable computernotebook assyb...\n",
              "23612  84713010  xfuc acj eguuqnfinnnnnues india rmn hstnnic  n...\n",
              "23613  84713010   nwg latitude  portable computernotebook assyb...\n",
              "23614  84713010   rpp inspiron  portable computernotebook assyb...\n",
              "\n",
              "[23615 rows x 2 columns]"
            ]
          },
          "metadata": {
            "tags": []
          },
          "execution_count": 304
        }
      ]
    },
    {
      "cell_type": "code",
      "metadata": {
        "id": "kmMlMJOQ_Ln-",
        "colab_type": "code",
        "outputId": "cb7762c2-ad72-4178-a5fa-41b30534cff6",
        "colab": {
          "base_uri": "https://localhost:8080/",
          "height": 53
        }
      },
      "source": [
        "num_words = train_df['text'].apply(lambda x: len(x.split(' '))).sum()  #number of words\n",
        "print(num_words)\n"
      ],
      "execution_count": 305,
      "outputs": [
        {
          "output_type": "stream",
          "text": [
            "230573\n"
          ],
          "name": "stdout"
        }
      ]
    },
    {
      "cell_type": "code",
      "metadata": {
        "id": "s4WS69i6AOBK",
        "colab_type": "code",
        "outputId": "74d930d0-e334-450e-ee69-2da015dbf003",
        "colab": {
          "base_uri": "https://localhost:8080/",
          "height": 324
        }
      },
      "source": [
        "plt.figure(figsize=(10,4))\n",
        "train_df.label.value_counts().plot(kind='bar');"
      ],
      "execution_count": 306,
      "outputs": [
        {
          "output_type": "display_data",
          "data": {
            "image/png": "[encoded data removed]",
            "text/plain": [
              "<Figure size 720x288 with 1 Axes>"
            ]
          },
          "metadata": {
            "tags": []
          }
        }
      ]
    },
    {
      "cell_type": "code",
      "metadata": {
        "id": "m-CMfzrVCB2X",
        "colab_type": "code",
        "colab": {}
      },
      "source": [
        "## RandomOverSampler to handle imbalanced data\n",
        "\n",
        "from imblearn.over_sampling import RandomOverSampler\n",
        "from imblearn.combine import SMOTETomek"
      ],
      "execution_count": 0,
      "outputs": []
    },
    {
      "cell_type": "code",
      "metadata": {
        "id": "EBx5W6t5KSov",
        "colab_type": "code",
        "colab": {}
      },
      "source": [
        "X_train = train_df.text\n",
        "y_train = train_df.label"
      ],
      "execution_count": 0,
      "outputs": []
    },
    {
      "cell_type": "code",
      "metadata": {
        "id": "0gt8cYXxOweQ",
        "colab_type": "code",
        "colab": {
          "base_uri": "https://localhost:8080/",
          "height": 162
        },
        "outputId": "e2e53144-b23b-4dae-8376-0c35ab9d70fe"
      },
      "source": [
        "X_train.values\n",
        "# type(X_train)"
      ],
      "execution_count": 309,
      "outputs": [
        {
          "output_type": "execute_result",
          "data": {
            "text/plain": [
              "array([' pdscpm gb part of panel of chiller',\n",
              "       'nm  p economical extended rot hand parts for circuit breaker captive consumption',\n",
              "       'lv ma pd trip unit for cvs parts of circuit breakers', ...,\n",
              "       'xfuc acj eguuqnfinnnnnues india rmn hstnnic  notebook computer not sor sale',\n",
              "       ' nwg latitude  portable computernotebook assybaseumaiu pgbisr laptopnot',\n",
              "       ' rpp inspiron  portable computernotebook assybasekblmy pt bisr laptop'],\n",
              "      dtype=object)"
            ]
          },
          "metadata": {
            "tags": []
          },
          "execution_count": 309
        }
      ]
    },
    {
      "cell_type": "code",
      "metadata": {
        "id": "gqWJs1HkBsjg",
        "colab_type": "code",
        "colab": {}
      },
      "source": [
        "\n",
        "def print_plot(index):\n",
        "    example = train_df[train_df.index == index][['text', 'label']].values[0]\n",
        "    if len(example) > 0:\n",
        "        print(example[0])\n",
        "        print('label:', example[1])"
      ],
      "execution_count": 0,
      "outputs": []
    },
    {
      "cell_type": "code",
      "metadata": {
        "id": "rclh8ShJn1gc",
        "colab_type": "code",
        "colab": {}
      },
      "source": [
        "X = train_df.text\n",
        "y = train_df.label\n",
        "X_train, X_test, y_train, y_test = train_test_split(X, y, test_size=0.3, random_state = 42)"
      ],
      "execution_count": 0,
      "outputs": []
    },
    {
      "cell_type": "code",
      "metadata": {
        "id": "uIfflOLsw7Mf",
        "colab_type": "code",
        "colab": {
          "base_uri": "https://localhost:8080/",
          "height": 107
        },
        "outputId": "7e65a5fb-c9e4-4432-9857-ff65b3d9b9b0"
      },
      "source": [
        "print(\"shape of x {}\\n Shape of y {}\".format(X.shape,y.shape))\n",
        "print(\"shape of x_train {}\\n Shape of y_train {}\".format(X_train.shape,y_train.shape))"
      ],
      "execution_count": 312,
      "outputs": [
        {
          "output_type": "stream",
          "text": [
            "shape of x (23615,)\n",
            " Shape of y (23615,)\n",
            "shape of x_train (16530,)\n",
            " Shape of y_train (16530,)\n"
          ],
          "name": "stdout"
        }
      ]
    },
    {
      "cell_type": "code",
      "metadata": {
        "id": "GJVPyfs4pQA0",
        "colab_type": "code",
        "colab": {}
      },
      "source": [
        "from sklearn.feature_extraction.text import CountVectorizer, TfidfVectorizer, TfidfTransformer\n",
        "from sklearn.metrics import accuracy_score, confusion_matrix\n",
        "\n",
        "from sklearn.naive_bayes import MultinomialNB\n",
        "from sklearn.pipeline import Pipeline\n"
      ],
      "execution_count": 0,
      "outputs": []
    },
    {
      "cell_type": "code",
      "metadata": {
        "id": "fOgIByB-vRA7",
        "colab_type": "code",
        "colab": {
          "base_uri": "https://localhost:8080/",
          "height": 344
        },
        "outputId": "a1fbf122-a547-475f-8190-41034bd5e17e"
      },
      "source": [
        "nb = Pipeline([('vect',CountVectorizer()),\n",
        "               ('tfidf', TfidfTransformer()),\n",
        "               ('clf',MultinomialNB()),\n",
        "               ])\n",
        "nb.fit(X_train,y_train)"
      ],
      "execution_count": 314,
      "outputs": [
        {
          "output_type": "execute_result",
          "data": {
            "text/plain": [
              "Pipeline(memory=None,\n",
              "         steps=[('vect',\n",
              "                 CountVectorizer(analyzer='word', binary=False,\n",
              "                                 decode_error='strict',\n",
              "                                 dtype=<class 'numpy.int64'>, encoding='utf-8',\n",
              "                                 input='content', lowercase=True, max_df=1.0,\n",
              "                                 max_features=None, min_df=1,\n",
              "                                 ngram_range=(1, 1), preprocessor=None,\n",
              "                                 stop_words=None, strip_accents=None,\n",
              "                                 token_pattern='(?u)\\\\b\\\\w\\\\w+\\\\b',\n",
              "                                 tokenizer=None, vocabulary=None)),\n",
              "                ('tfidf',\n",
              "                 TfidfTransformer(norm='l2', smooth_idf=True,\n",
              "                                  sublinear_tf=False, use_idf=True)),\n",
              "                ('clf',\n",
              "                 MultinomialNB(alpha=1.0, class_prior=None, fit_prior=True))],\n",
              "         verbose=False)"
            ]
          },
          "metadata": {
            "tags": []
          },
          "execution_count": 314
        }
      ]
    },
    {
      "cell_type": "code",
      "metadata": {
        "id": "cnaF_uYj3DxF",
        "colab_type": "code",
        "colab": {
          "base_uri": "https://localhost:8080/",
          "height": 73
        },
        "outputId": "cbb955cd-e276-4704-d489-bab0af54efd2"
      },
      "source": [
        "classes_str = [str(item) for item in classes]\n",
        "print(classes_str)"
      ],
      "execution_count": 315,
      "outputs": [
        {
          "output_type": "stream",
          "text": [
            "['85389000', '85177090', '85369090', '39269099', '73181500', '85366990', '85364900', '85238090', '87089900', '33041000', '87082900', '84713010']\n"
          ],
          "name": "stdout"
        }
      ]
    },
    {
      "cell_type": "code",
      "metadata": {
        "id": "JWd5I1GnwKzJ",
        "colab_type": "code",
        "colab": {
          "base_uri": "https://localhost:8080/",
          "height": 398
        },
        "outputId": "9a372382-a70f-4a67-80e6-70557a61030f"
      },
      "source": [
        "from sklearn.metrics import classification_report\n",
        "y_pred = nb.predict(X_test)\n",
        "\n",
        "print('accuracy %s' % accuracy_score(y_pred, y_test))\n",
        "print(classification_report(y_test, y_pred,target_names=classes_str))"
      ],
      "execution_count": 316,
      "outputs": [
        {
          "output_type": "stream",
          "text": [
            "accuracy 0.8932956951305575\n",
            "              precision    recall  f1-score   support\n",
            "\n",
            "    85389000       0.99      1.00      0.99       485\n",
            "    85177090       0.86      0.78      0.82       675\n",
            "    85369090       0.91      0.90      0.90       620\n",
            "    39269099       1.00      0.98      0.99       375\n",
            "    73181500       0.93      0.95      0.94       787\n",
            "    85366990       0.99      0.98      0.99       483\n",
            "    85364900       0.87      0.95      0.91       544\n",
            "    85238090       0.88      0.84      0.86       595\n",
            "    87089900       0.80      0.78      0.79       713\n",
            "    33041000       0.83      0.90      0.86       854\n",
            "    87082900       0.91      0.89      0.90       444\n",
            "    84713010       0.86      0.85      0.85       510\n",
            "\n",
            "    accuracy                           0.89      7085\n",
            "   macro avg       0.90      0.90      0.90      7085\n",
            "weighted avg       0.89      0.89      0.89      7085\n",
            "\n"
          ],
          "name": "stdout"
        }
      ]
    },
    {
      "cell_type": "code",
      "metadata": {
        "id": "JpdFROuhNjAK",
        "colab_type": "code",
        "colab": {
          "base_uri": "https://localhost:8080/",
          "height": 53
        },
        "outputId": "5e3759f1-ccd4-4587-9e8b-437805d8c446"
      },
      "source": [
        "diff_prediction = []\n",
        "nb_prediction = nb.predict(test_pred)\n",
        "diff_prediction.append(nb_prediction)\n",
        "print(nb_prediction)"
      ],
      "execution_count": 317,
      "outputs": [
        {
          "output_type": "stream",
          "text": [
            "[85389000 85389000 85389000 ... 84713010 84713010 84713010]\n"
          ],
          "name": "stdout"
        }
      ]
    },
    {
      "cell_type": "code",
      "metadata": {
        "id": "Dv4s-iLAy58u",
        "colab_type": "code",
        "colab": {
          "base_uri": "https://localhost:8080/",
          "height": 416
        },
        "outputId": "e8784997-83f2-4797-a80d-cb549f150279"
      },
      "source": [
        "from sklearn.linear_model import SGDClassifier\n",
        "\n",
        "sgd = Pipeline([('vect', CountVectorizer()),\n",
        "                ('tfidf', TfidfTransformer()),\n",
        "                ('clf', SGDClassifier(loss='hinge', penalty='l2',alpha=1e-3, random_state=42, max_iter=5, tol=None)),\n",
        "               ])\n",
        "sgd.fit(X_train, y_train)"
      ],
      "execution_count": 318,
      "outputs": [
        {
          "output_type": "execute_result",
          "data": {
            "text/plain": [
              "Pipeline(memory=None,\n",
              "         steps=[('vect',\n",
              "                 CountVectorizer(analyzer='word', binary=False,\n",
              "                                 decode_error='strict',\n",
              "                                 dtype=<class 'numpy.int64'>, encoding='utf-8',\n",
              "                                 input='content', lowercase=True, max_df=1.0,\n",
              "                                 max_features=None, min_df=1,\n",
              "                                 ngram_range=(1, 1), preprocessor=None,\n",
              "                                 stop_words=None, strip_accents=None,\n",
              "                                 token_pattern='(?u)\\\\b\\\\w\\\\w+\\\\b',\n",
              "                                 tokenizer=None, vocabulary=Non...\n",
              "                ('clf',\n",
              "                 SGDClassifier(alpha=0.001, average=False, class_weight=None,\n",
              "                               early_stopping=False, epsilon=0.1, eta0=0.0,\n",
              "                               fit_intercept=True, l1_ratio=0.15,\n",
              "                               learning_rate='optimal', loss='hinge',\n",
              "                               max_iter=5, n_iter_no_change=5, n_jobs=None,\n",
              "                               penalty='l2', power_t=0.5, random_state=42,\n",
              "                               shuffle=True, tol=None, validation_fraction=0.1,\n",
              "                               verbose=0, warm_start=False))],\n",
              "         verbose=False)"
            ]
          },
          "metadata": {
            "tags": []
          },
          "execution_count": 318
        }
      ]
    },
    {
      "cell_type": "code",
      "metadata": {
        "id": "Wg9dcWP__mO1",
        "colab_type": "code",
        "colab": {
          "base_uri": "https://localhost:8080/",
          "height": 435
        },
        "outputId": "84cb82b0-56ec-495f-bd5c-f8be29d9843f"
      },
      "source": [
        "\n",
        "%%time\n",
        "\n",
        "y_pred = sgd.predict(X_test)\n",
        "\n",
        "print('accuracy %s' % accuracy_score(y_pred, y_test))\n",
        "print(classification_report(y_test, y_pred,target_names=classes_str))"
      ],
      "execution_count": 319,
      "outputs": [
        {
          "output_type": "stream",
          "text": [
            "accuracy 0.8642201834862385\n",
            "              precision    recall  f1-score   support\n",
            "\n",
            "    85389000       0.98      1.00      0.99       485\n",
            "    85177090       0.86      0.69      0.77       675\n",
            "    85369090       0.89      0.90      0.90       620\n",
            "    39269099       0.96      0.99      0.98       375\n",
            "    73181500       0.88      0.96      0.92       787\n",
            "    85366990       1.00      0.99      0.99       483\n",
            "    85364900       0.83      0.97      0.89       544\n",
            "    85238090       0.80      0.84      0.82       595\n",
            "    87089900       0.80      0.68      0.74       713\n",
            "    33041000       0.81      0.87      0.84       854\n",
            "    87082900       0.91      0.76      0.83       444\n",
            "    84713010       0.75      0.84      0.79       510\n",
            "\n",
            "    accuracy                           0.86      7085\n",
            "   macro avg       0.87      0.87      0.87      7085\n",
            "weighted avg       0.87      0.86      0.86      7085\n",
            "\n",
            "CPU times: user 143 ms, sys: 77.9 ms, total: 221 ms\n",
            "Wall time: 127 ms\n"
          ],
          "name": "stdout"
        }
      ]
    },
    {
      "cell_type": "code",
      "metadata": {
        "id": "qsoCvl7zgq-4",
        "colab_type": "code",
        "colab": {
          "base_uri": "https://localhost:8080/",
          "height": 53
        },
        "outputId": "7bb049a4-8ae5-4727-95c8-4e08d280dfed"
      },
      "source": [
        "sgd_prediction= sgd.predict(test_pred)\n",
        "diff_prediction.append(sgd_prediction)\n",
        "print(sgd_prediction)"
      ],
      "execution_count": 391,
      "outputs": [
        {
          "output_type": "stream",
          "text": [
            "[85389000 85389000 85389000 ... 84713010 84713010 84713010]\n"
          ],
          "name": "stdout"
        }
      ]
    },
    {
      "cell_type": "code",
      "metadata": {
        "id": "FOf6UuSp_o4I",
        "colab_type": "code",
        "colab": {
          "base_uri": "https://localhost:8080/",
          "height": 600
        },
        "outputId": "d57b2742-ae44-436f-e1cb-543f5d285d58"
      },
      "source": [
        "#Logistic Regression\n",
        "from sklearn.linear_model import LogisticRegression\n",
        "\n",
        "logreg = Pipeline([('vect', CountVectorizer()),\n",
        "                ('tfidf', TfidfTransformer()),\n",
        "                ('clf', LogisticRegression(n_jobs=1, C=1e5)),\n",
        "               ])\n",
        "logreg.fit(X_train, y_train)"
      ],
      "execution_count": 320,
      "outputs": [
        {
          "output_type": "stream",
          "text": [
            "/usr/local/lib/python3.6/dist-packages/sklearn/linear_model/_logistic.py:940: ConvergenceWarning: lbfgs failed to converge (status=1):\n",
            "STOP: TOTAL NO. of ITERATIONS REACHED LIMIT.\n",
            "\n",
            "Increase the number of iterations (max_iter) or scale the data as shown in:\n",
            "    https://scikit-learn.org/stable/modules/preprocessing.html\n",
            "Please also refer to the documentation for alternative solver options:\n",
            "    https://scikit-learn.org/stable/modules/linear_model.html#logistic-regression\n",
            "  extra_warning_msg=_LOGISTIC_SOLVER_CONVERGENCE_MSG)\n"
          ],
          "name": "stderr"
        },
        {
          "output_type": "execute_result",
          "data": {
            "text/plain": [
              "Pipeline(memory=None,\n",
              "         steps=[('vect',\n",
              "                 CountVectorizer(analyzer='word', binary=False,\n",
              "                                 decode_error='strict',\n",
              "                                 dtype=<class 'numpy.int64'>, encoding='utf-8',\n",
              "                                 input='content', lowercase=True, max_df=1.0,\n",
              "                                 max_features=None, min_df=1,\n",
              "                                 ngram_range=(1, 1), preprocessor=None,\n",
              "                                 stop_words=None, strip_accents=None,\n",
              "                                 token_pattern='(?u)\\\\b\\\\w\\\\w+\\\\b',\n",
              "                                 tokenizer=None, vocabulary=None)),\n",
              "                ('tfidf',\n",
              "                 TfidfTransformer(norm='l2', smooth_idf=True,\n",
              "                                  sublinear_tf=False, use_idf=True)),\n",
              "                ('clf',\n",
              "                 LogisticRegression(C=100000.0, class_weight=None, dual=False,\n",
              "                                    fit_intercept=True, intercept_scaling=1,\n",
              "                                    l1_ratio=None, max_iter=100,\n",
              "                                    multi_class='auto', n_jobs=1, penalty='l2',\n",
              "                                    random_state=None, solver='lbfgs',\n",
              "                                    tol=0.0001, verbose=0, warm_start=False))],\n",
              "         verbose=False)"
            ]
          },
          "metadata": {
            "tags": []
          },
          "execution_count": 320
        }
      ]
    },
    {
      "cell_type": "code",
      "metadata": {
        "id": "2N_MhhbgADF3",
        "colab_type": "code",
        "colab": {
          "base_uri": "https://localhost:8080/",
          "height": 435
        },
        "outputId": "15f276ac-e13b-459d-fb8e-3786311bb332"
      },
      "source": [
        "%%time\n",
        "\n",
        "y_pred = logreg.predict(X_test)\n",
        "\n",
        "print('accuracy %s' % accuracy_score(y_pred, y_test))\n",
        "print(classification_report(y_test, y_pred,target_names=classes_str))"
      ],
      "execution_count": 321,
      "outputs": [
        {
          "output_type": "stream",
          "text": [
            "accuracy 0.9315455187014821\n",
            "              precision    recall  f1-score   support\n",
            "\n",
            "    85389000       1.00      0.99      1.00       485\n",
            "    85177090       0.86      0.87      0.87       675\n",
            "    85369090       0.96      0.94      0.95       620\n",
            "    39269099       0.99      0.99      0.99       375\n",
            "    73181500       0.98      0.97      0.97       787\n",
            "    85366990       1.00      0.99      0.99       483\n",
            "    85364900       0.96      0.96      0.96       544\n",
            "    85238090       0.88      0.91      0.89       595\n",
            "    87089900       0.89      0.89      0.89       713\n",
            "    33041000       0.90      0.91      0.90       854\n",
            "    87082900       0.93      0.94      0.94       444\n",
            "    84713010       0.91      0.88      0.90       510\n",
            "\n",
            "    accuracy                           0.93      7085\n",
            "   macro avg       0.94      0.94      0.94      7085\n",
            "weighted avg       0.93      0.93      0.93      7085\n",
            "\n",
            "CPU times: user 144 ms, sys: 88.8 ms, total: 232 ms\n",
            "Wall time: 130 ms\n"
          ],
          "name": "stdout"
        }
      ]
    },
    {
      "cell_type": "code",
      "metadata": {
        "id": "pH-a7fu4Sgdd",
        "colab_type": "code",
        "colab": {
          "base_uri": "https://localhost:8080/",
          "height": 53
        },
        "outputId": "bbfa53d7-ca01-437e-f502-fde822cedb23"
      },
      "source": [
        "logreg_prediction = logreg.predict(test_pred)\n",
        "diff_prediction.append(logreg)\n",
        "print(logreg_prediction)"
      ],
      "execution_count": 392,
      "outputs": [
        {
          "output_type": "stream",
          "text": [
            "[85389000 85389000 85389000 ... 84713010 84713010 84713010]\n"
          ],
          "name": "stdout"
        }
      ]
    },
    {
      "cell_type": "code",
      "metadata": {
        "id": "njtx2GP3BQE-",
        "colab_type": "code",
        "colab": {}
      },
      "source": [
        "import itertools\n",
        "import os\n",
        "\n",
        "%matplotlib inline\n",
        "import matplotlib.pyplot as plt\n",
        "import numpy as np\n",
        "import pandas as pd\n",
        "import tensorflow as tf\n",
        "\n",
        "from sklearn.preprocessing import LabelBinarizer, LabelEncoder\n",
        "from sklearn.metrics import confusion_matrix\n",
        "\n",
        "from tensorflow import keras\n",
        "from keras.models import Sequential\n",
        "from keras.layers import Dense, Activation, Dropout\n",
        "from keras.preprocessing import text, sequence\n",
        "from keras import utils"
      ],
      "execution_count": 0,
      "outputs": []
    },
    {
      "cell_type": "code",
      "metadata": {
        "id": "NrzJhRqICnyE",
        "colab_type": "code",
        "colab": {}
      },
      "source": [
        "max_words = 1000\n",
        "tokenize = text.Tokenizer(num_words=max_words, char_level=False)"
      ],
      "execution_count": 0,
      "outputs": []
    },
    {
      "cell_type": "code",
      "metadata": {
        "id": "0VwTkF1cCLHw",
        "colab_type": "code",
        "colab": {}
      },
      "source": [
        "tokenize.fit_on_texts(X_train) # only fit on train\n",
        "x_train = tokenize.texts_to_matrix(X_train)\n",
        "x_test = tokenize.texts_to_matrix(X_test)\n",
        "x_pred = tokenize.texts_to_matrix(test_pred)"
      ],
      "execution_count": 0,
      "outputs": []
    },
    {
      "cell_type": "code",
      "metadata": {
        "id": "BDapAXzkCfpf",
        "colab_type": "code",
        "colab": {}
      },
      "source": [
        "encoder = LabelEncoder()\n",
        "encoder.fit(y_train)\n",
        "y_train = encoder.transform(y_train)\n",
        "y_test = encoder.transform(y_test)\n"
      ],
      "execution_count": 0,
      "outputs": []
    },
    {
      "cell_type": "code",
      "metadata": {
        "id": "9xaFFiiMCtrP",
        "colab_type": "code",
        "colab": {
          "base_uri": "https://localhost:8080/",
          "height": 53
        },
        "outputId": "e293d0e3-e8d3-4c08-e084-1c6118f8aaa7"
      },
      "source": [
        "num_classes = np.max(y_train) + 1\n",
        "print(\"{}\".format(num_classes))\n",
        "y_train = utils.to_categorical(y_train, num_classes)\n",
        "y_test = utils.to_categorical(y_test, num_classes)"
      ],
      "execution_count": 327,
      "outputs": [
        {
          "output_type": "stream",
          "text": [
            "12\n"
          ],
          "name": "stdout"
        }
      ]
    },
    {
      "cell_type": "code",
      "metadata": {
        "id": "dnwcNN1vEraR",
        "colab_type": "code",
        "colab": {
          "base_uri": "https://localhost:8080/",
          "height": 125
        },
        "outputId": "5bd7a281-5b55-4bdb-90e9-c1704385252c"
      },
      "source": [
        "print('x_train shape:', x_train.shape)\n",
        "print('x_test shape:', x_test.shape)\n",
        "print('y_train shape:', y_train.shape)\n",
        "print('y_test shape:', y_test.shape)\n",
        "print('x_pred shape:', x_pred.shape)"
      ],
      "execution_count": 328,
      "outputs": [
        {
          "output_type": "stream",
          "text": [
            "x_train shape: (16530, 1000)\n",
            "x_test shape: (7085, 1000)\n",
            "y_train shape: (16530, 12)\n",
            "y_test shape: (7085, 12)\n",
            "x_pred shape: (5894, 1000)\n"
          ],
          "name": "stdout"
        }
      ]
    },
    {
      "cell_type": "code",
      "metadata": {
        "id": "H1Mk3dXsEu7L",
        "colab_type": "code",
        "colab": {}
      },
      "source": [
        "batch_size = 32\n",
        "epochs = 10"
      ],
      "execution_count": 0,
      "outputs": []
    },
    {
      "cell_type": "code",
      "metadata": {
        "id": "VExW8zUvEx4z",
        "colab_type": "code",
        "colab": {}
      },
      "source": [
        "# Build the model\n",
        "model = Sequential()\n",
        "model.add(Dense(512, input_shape=(max_words,)))\n",
        "model.add(Activation('relu'))\n",
        "model.add(Dropout(0.5))\n",
        "model.add(Dense(num_classes))\n",
        "model.add(Activation('softmax'))\n",
        "\n",
        "model.compile(loss='categorical_crossentropy',\n",
        "              optimizer='adam',\n",
        "              metrics=['accuracy'])"
      ],
      "execution_count": 0,
      "outputs": []
    },
    {
      "cell_type": "code",
      "metadata": {
        "id": "R-32_6EVFGuG",
        "colab_type": "code",
        "colab": {
          "base_uri": "https://localhost:8080/",
          "height": 362
        },
        "outputId": "6eb64928-c43f-486e-d29e-8d3644ff4bc3"
      },
      "source": [
        "model.summary()"
      ],
      "execution_count": 331,
      "outputs": [
        {
          "output_type": "stream",
          "text": [
            "Model: \"sequential_6\"\n",
            "_________________________________________________________________\n",
            "Layer (type)                 Output Shape              Param #   \n",
            "=================================================================\n",
            "dense_11 (Dense)             (None, 512)               512512    \n",
            "_________________________________________________________________\n",
            "activation_11 (Activation)   (None, 512)               0         \n",
            "_________________________________________________________________\n",
            "dropout_6 (Dropout)          (None, 512)               0         \n",
            "_________________________________________________________________\n",
            "dense_12 (Dense)             (None, 12)                6156      \n",
            "_________________________________________________________________\n",
            "activation_12 (Activation)   (None, 12)                0         \n",
            "=================================================================\n",
            "Total params: 518,668\n",
            "Trainable params: 518,668\n",
            "Non-trainable params: 0\n",
            "_________________________________________________________________\n"
          ],
          "name": "stdout"
        }
      ]
    },
    {
      "cell_type": "code",
      "metadata": {
        "id": "lYpD9hf0FKgu",
        "colab_type": "code",
        "colab": {
          "base_uri": "https://localhost:8080/",
          "height": 436
        },
        "outputId": "f3ad140c-bfdc-4501-f34c-421c684cc203"
      },
      "source": [
        "history = model.fit(x_train, y_train,\n",
        "                    batch_size=batch_size,\n",
        "                    epochs=epochs,\n",
        "                    verbose=1,\n",
        "                    validation_split=0.1)"
      ],
      "execution_count": 332,
      "outputs": [
        {
          "output_type": "stream",
          "text": [
            "Train on 14877 samples, validate on 1653 samples\n",
            "Epoch 1/10\n",
            "14877/14877 [==============================] - 2s 155us/step - loss: 0.7862 - acc: 0.7788 - val_loss: 0.3854 - val_acc: 0.8820\n",
            "Epoch 2/10\n",
            "14877/14877 [==============================] - 2s 124us/step - loss: 0.3397 - acc: 0.8892 - val_loss: 0.3186 - val_acc: 0.8959\n",
            "Epoch 3/10\n",
            "14877/14877 [==============================] - 2s 131us/step - loss: 0.2713 - acc: 0.9101 - val_loss: 0.2935 - val_acc: 0.9080\n",
            "Epoch 4/10\n",
            "14877/14877 [==============================] - 2s 116us/step - loss: 0.2341 - acc: 0.9210 - val_loss: 0.2922 - val_acc: 0.9050\n",
            "Epoch 5/10\n",
            "14877/14877 [==============================] - 2s 119us/step - loss: 0.2057 - acc: 0.9285 - val_loss: 0.2819 - val_acc: 0.9080\n",
            "Epoch 6/10\n",
            "14877/14877 [==============================] - 2s 120us/step - loss: 0.1851 - acc: 0.9372 - val_loss: 0.2844 - val_acc: 0.9099\n",
            "Epoch 7/10\n",
            "14877/14877 [==============================] - 2s 123us/step - loss: 0.1700 - acc: 0.9402 - val_loss: 0.2837 - val_acc: 0.9080\n",
            "Epoch 8/10\n",
            "14877/14877 [==============================] - 2s 117us/step - loss: 0.1561 - acc: 0.9465 - val_loss: 0.2951 - val_acc: 0.9068\n",
            "Epoch 9/10\n",
            "14877/14877 [==============================] - 2s 125us/step - loss: 0.1449 - acc: 0.9509 - val_loss: 0.2920 - val_acc: 0.9062\n",
            "Epoch 10/10\n",
            "14877/14877 [==============================] - 2s 122us/step - loss: 0.1375 - acc: 0.9533 - val_loss: 0.2983 - val_acc: 0.9099\n"
          ],
          "name": "stdout"
        }
      ]
    },
    {
      "cell_type": "code",
      "metadata": {
        "id": "-008Lxd-FON4",
        "colab_type": "code",
        "colab": {
          "base_uri": "https://localhost:8080/",
          "height": 71
        },
        "outputId": "08e580c2-efce-44a2-b33d-29cca2065a40"
      },
      "source": [
        "score = model.evaluate(x_test, y_test,\n",
        "                       batch_size=batch_size, verbose=1)\n",
        "print('Test accuracy:', score[1])"
      ],
      "execution_count": 333,
      "outputs": [
        {
          "output_type": "stream",
          "text": [
            "7085/7085 [==============================] - 0s 42us/step\n",
            "Test accuracy: 0.9052928722737621\n"
          ],
          "name": "stdout"
        }
      ]
    },
    {
      "cell_type": "code",
      "metadata": {
        "id": "vwTSs14fPCFY",
        "colab_type": "code",
        "colab": {
          "base_uri": "https://localhost:8080/",
          "height": 53
        },
        "outputId": "63d73d67-bd3d-4e94-8d7b-383833d0c846"
      },
      "source": [
        "NN_prediction = model.predict_classes(x_pred)\n",
        "diff_prediction.append(NN_prediction)\n",
        "print(NN_prediction)"
      ],
      "execution_count": 334,
      "outputs": [
        {
          "output_type": "stream",
          "text": [
            "[9 9 9 ... 3 3 3]\n"
          ],
          "name": "stdout"
        }
      ]
    },
    {
      "cell_type": "code",
      "metadata": {
        "id": "FpfhfHM3ecaY",
        "colab_type": "code",
        "colab": {}
      },
      "source": [
        "scored_res =  {'Text': test_pred,\n",
        "               'MultinomialNB': nb_prediction,\n",
        "              'sgd': sgd_prediction,\n",
        "               'logreg': logreg_prediction,\n",
        "        'NN': NN_prediction\n",
        "        }"
      ],
      "execution_count": 0,
      "outputs": []
    },
    {
      "cell_type": "code",
      "metadata": {
        "id": "gJmUStoibuyq",
        "colab_type": "code",
        "colab": {}
      },
      "source": [
        "df = pd.DataFrame(scored_res, columns= ['Text','MultinomialNB','sgd','logreg','NN'])"
      ],
      "execution_count": 0,
      "outputs": []
    },
    {
      "cell_type": "code",
      "metadata": {
        "id": "S9g55PBqcD6L",
        "colab_type": "code",
        "colab": {
          "base_uri": "https://localhost:8080/",
          "height": 215
        },
        "outputId": "a2d9e563-ce74-4d14-d632-7e2ee9b68d37"
      },
      "source": [
        "df.head()\n"
      ],
      "execution_count": 415,
      "outputs": [
        {
          "output_type": "execute_result",
          "data": {
            "text/html": [
              "<div>\n",
              "<style scoped>\n",
              "    .dataframe tbody tr th:only-of-type {\n",
              "        vertical-align: middle;\n",
              "    }\n",
              "\n",
              "    .dataframe tbody tr th {\n",
              "        vertical-align: top;\n",
              "    }\n",
              "\n",
              "    .dataframe thead th {\n",
              "        text-align: right;\n",
              "    }\n",
              "</style>\n",
              "<table border=\"1\" class=\"dataframe\">\n",
              "  <thead>\n",
              "    <tr style=\"text-align: right;\">\n",
              "      <th></th>\n",
              "      <th>Text</th>\n",
              "      <th>MultinomialNB</th>\n",
              "      <th>sgd</th>\n",
              "      <th>logreg</th>\n",
              "      <th>NN</th>\n",
              "    </tr>\n",
              "  </thead>\n",
              "  <tbody>\n",
              "    <tr>\n",
              "      <th>0</th>\n",
              "      <td>lv tmd pd trip unit for nh parts of circuit br...</td>\n",
              "      <td>85389000</td>\n",
              "      <td>85389000</td>\n",
              "      <td>85389000</td>\n",
              "      <td>9</td>\n",
              "    </tr>\n",
              "    <tr>\n",
              "      <th>1</th>\n",
              "      <td>module tm analog outputs analog output expansi...</td>\n",
              "      <td>85389000</td>\n",
              "      <td>85389000</td>\n",
              "      <td>85389000</td>\n",
              "      <td>9</td>\n",
              "    </tr>\n",
              "    <tr>\n",
              "      <th>2</th>\n",
              "      <td>command group t iii mechanismt p parts forcir...</td>\n",
              "      <td>85389000</td>\n",
              "      <td>85389000</td>\n",
              "      <td>85389000</td>\n",
              "      <td>9</td>\n",
              "    </tr>\n",
              "    <tr>\n",
              "      <th>3</th>\n",
              "      <td>parts of relayelectrical contact  issu e f xxup</td>\n",
              "      <td>85389000</td>\n",
              "      <td>85389000</td>\n",
              "      <td>85389000</td>\n",
              "      <td>9</td>\n",
              "    </tr>\n",
              "    <tr>\n",
              "      <th>4</th>\n",
              "      <td>parts for programmable logic controllers  dm  ...</td>\n",
              "      <td>85389000</td>\n",
              "      <td>85389000</td>\n",
              "      <td>85389000</td>\n",
              "      <td>9</td>\n",
              "    </tr>\n",
              "  </tbody>\n",
              "</table>\n",
              "</div>"
            ],
            "text/plain": [
              "                                                Text  ...  NN\n",
              "0  lv tmd pd trip unit for nh parts of circuit br...  ...   9\n",
              "1  module tm analog outputs analog output expansi...  ...   9\n",
              "2   command group t iii mechanismt p parts forcir...  ...   9\n",
              "3    parts of relayelectrical contact  issu e f xxup  ...   9\n",
              "4  parts for programmable logic controllers  dm  ...  ...   9\n",
              "\n",
              "[5 rows x 5 columns]"
            ]
          },
          "metadata": {
            "tags": []
          },
          "execution_count": 415
        }
      ]
    },
    {
      "cell_type": "code",
      "metadata": {
        "id": "uyUOzY5ej2EO",
        "colab_type": "code",
        "colab": {
          "base_uri": "https://localhost:8080/",
          "height": 53
        },
        "outputId": "e82c030f-b9cd-4aad-e668-9973f442ce6f"
      },
      "source": [
        "ls\n"
      ],
      "execution_count": 420,
      "outputs": [
        {
          "output_type": "stream",
          "text": [
            "\u001b[0m\u001b[01;34mdata\u001b[0m/  \u001b[01;34msample_data\u001b[0m/\n"
          ],
          "name": "stdout"
        }
      ]
    },
    {
      "cell_type": "code",
      "metadata": {
        "id": "wFd_is6GeVE8",
        "colab_type": "code",
        "colab": {}
      },
      "source": [
        "export_csv = df.to_csv(\"data/prediction_result.csv\", index = None, header=True)"
      ],
      "execution_count": 0,
      "outputs": []
    },
    {
      "cell_type": "code",
      "metadata": {
        "id": "7U2smSAPjhZ9",
        "colab_type": "code",
        "colab": {}
      },
      "source": [
        "from google.colab import files\n",
        "files.download('data/prediction_result.csv') "
      ],
      "execution_count": 0,
      "outputs": []
    },
    {
      "cell_type": "code",
      "metadata": {
        "id": "7v7PkQN7kMno",
        "colab_type": "code",
        "colab": {}
      },
      "source": [
        ""
      ],
      "execution_count": 0,
      "outputs": []
    }
  ]
}